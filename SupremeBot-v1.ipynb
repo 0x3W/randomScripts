{
 "cells": [
  {
   "cell_type": "code",
   "execution_count": 102,
   "metadata": {
    "ExecuteTime": {
     "end_time": "2018-04-12T10:30:19.796135Z",
     "start_time": "2018-04-12T10:30:19.398257Z"
    }
   },
   "outputs": [],
   "source": [
    "#import libraries",
    "import requests\n",
    "import httplib2\n",
    "from bs4 import BeautifulSoup, SoupStrainer\n",
    "from PIL import Image, ImageChops\n",
    "import time\n",
    "import math, operator\n",
    "import operator\n",
    "from selenium import webdriver\n",
    "import time\n",
    "from selenium.webdriver.common.keys import Keys\n",
    "from selenium.webdriver.chrome.options import Options\n",
    "import warnings\n",
    "warnings.filterwarnings('ignore')\n",
    "\n",
    "def quickOut(che,sizes):\n",
    "        driver = webdriver.Chrome(\"/Users/Dovla/Downloads/chromedriver\",chrome_options=chrome_options)\n",
    "        driver.get(che)\n",
    "        if sizes == 1:\n",
    "            state = driver.find_element_by_id(\"s\").send_keys(\"Medium\")\n",
    "        driver.find_element_by_name(\"commit\").click()\n",
    "        time.sleep(0.09)\n",
    "        #checkout\n",
    "        driver.get(\"https://www.supremenewyork.com/checkout\")\n",
    "        time.sleep(0.09)\n",
    "    \n",
    "def textwise(link,desTag):\n",
    "    r=requests.get(link)\n",
    "    soup=BeautifulSoup(r.content)\n",
    "    link = soup.find(itemprop=\"name\")\n",
    "#link1 = ''.join(list(link[\"src\"])[2:])\n",
    "    #print(link)\n",
    "    if link is not None:\n",
    "        link1 = [s for s in link if desTag in s]\n",
    "        if link1 is not None:\n",
    "            if len(link1) > 0:\n",
    "                return 1\n",
    "            else:\n",
    "                return 0\n",
    "        else:\n",
    "            return 0\n",
    "    else:\n",
    "        return 0\n",
    "     \n",
    "def compare(matching,des1):\n",
    "    rmsDiffR = dict()\n",
    "    for linkA in matching:\n",
    "        r=requests.get(''.join([\"http://www.supremenewyork.com\",linkA]))\n",
    "        soup=BeautifulSoup(r.content)\n",
    "        link = soup.find(itemprop=\"image\")\n",
    "        link1 = ''.join(list(link[\"src\"])[2:])\n",
    "        im = Image.open(requests.get(''.join([\"http://\",link1]), stream=True).raw)\n",
    "        im.thumbnail(size, Image.ANTIALIAS)\n",
    "        #print(rmsdiff(im,im3))\n",
    "        #rmsDiffR.append([linkA,rmsdiff(im,im3)])\n",
    "        rmsDiffR[linkA] = rmsdiff(des1,im)\n",
    "    sorted_x = sorted(rmsDiffR.items(), key=operator.itemgetter(1))\n",
    "    toplink1 = 'http://www.supremenewyork.com' + sorted_x[1][0]\n",
    "    return toplink1\n",
    "\n",
    "def reduce(function, iterable, initializer=None):\n",
    "    it = iter(iterable)\n",
    "    if initializer is None:\n",
    "        value = next(it)\n",
    "    else:\n",
    "        value = initializer\n",
    "    for element in it:\n",
    "        value = function(value, element)\n",
    "    return value\n",
    "\n",
    "def rmsdiff(im1, im2):\n",
    "    \"Calculate the root-mean-square difference between two images\"\n",
    "    h = ImageChops.difference(im1, im2).histogram()\n",
    "    # calculate rms\n",
    "    return math.sqrt(reduce(operator.add,\n",
    "        map(lambda h, i: h*(i**2), h, range(256))) / (float(im1.size[0]) * im1.size[1]))\n",
    "\n",
    "size = 64, 64\n",
    "des1 = Image.open('/Users/Dovla/Desktop/black.jpg')\n",
    "des1.thumbnail(size, Image.ANTIALIAS)\n",
    "#mostSim1 = 'http://www.supremenewyork.com/shop/accessories/ajd8mo1sn/yybt603d8'\n",
    "#chrome web driver\n",
    "chrome_options = Options()\n",
    "chrome_options.add_extension('/Users/Dovla/Desktop/Dev/Supreme/nlmmgnhgdeffjkdckmikfpnddkbbfkkk/7.8.0_0.crx')"
   ]
  },
  {
   "cell_type": "code",
   "execution_count": 127,
   "metadata": {
    "ExecuteTime": {
     "end_time": "2018-04-12T14:59:57.790695Z",
     "start_time": "2018-04-12T14:59:57.784093Z"
    }
   },
   "outputs": [
    {
     "data": {
      "text/plain": [
       "1523545197.7855208"
      ]
     },
     "execution_count": 127,
     "metadata": {},
     "output_type": "execute_result"
    }
   ],
   "source": [
    "time.time()"
   ]
  },
  {
   "cell_type": "code",
   "execution_count": 131,
   "metadata": {
    "ExecuteTime": {
     "end_time": "2018-04-12T15:05:52.333681Z",
     "start_time": "2018-04-12T15:05:50.588662Z"
    }
   },
   "outputs": [
    {
     "name": "stdout",
     "output_type": "stream",
     "text": [
      "next\n",
      "next\n",
      "next\n",
      "next\n",
      "next\n",
      "next\n",
      "http://www.supremenewyork.com/shop/jackets/cr2tjcnh9/ms6o9whrz\n",
      "Done!\n"
     ]
    }
   ],
   "source": [
    "#desLink = 'http://www.supremenewyork.com/shop/accessories/jy1cn3sie/eq35gubw7'\n",
    "t1 = 0\n",
    "dTag = 'arsity'\n",
    "chasing = 0\n",
    "while t1 == 0:\n",
    "    if time.time() > 1523545201:\n",
    "        t1 = 1\n",
    "    # 1522904235:\n",
    "    # 1523545201:\n",
    "        http = httplib2.Http()\n",
    "        status, response = http.request('http://www.supremenewyork.com/shop/all')\n",
    "        l1 = []\n",
    "        for link in BeautifulSoup(response, 'html.parser', parseOnlyThese=SoupStrainer('a')):\n",
    "            if link.has_attr('href'):\n",
    "                #print(link['href'])\n",
    "                l1.append(link['href'])\n",
    "        matching = [s for s in l1 if \"jackets\" in s]\n",
    "        matching = [s for s in matching if \"all\" not in s]\n",
    "        if len(l1) + len(matching) != 283:\n",
    "            if chasing == 1:\n",
    "                mostSim = compare(matching, des1)\n",
    "                quickOut(mostSim,sizes=0)\n",
    "                #print(mostSim)\n",
    "            else:\n",
    "                for aLink in matching:\n",
    "                    txtExtract = textwise(''.join([\"http://www.supremenewyork.com\",aLink]), dTag)\n",
    "                    if txtExtract == 1:\n",
    "                        mostTxt = ''.join([\"http://www.supremenewyork.com\",aLink])\n",
    "                        #quickOut(mostTxt,sizes=0)\n",
    "                        print(mostTxt)\n",
    "                        break\n",
    "                    else:\n",
    "                        print(\"next\")\n",
    "                        #print('OneMore + ',''.join([\"http://www.supremenewyork.com\",aLink]))\n",
    "            print('Done!')\n",
    "        else:\n",
    "            print('Ciao')\n",
    "    else:\n",
    "        next\n",
    "        #print('Not yet')"
   ]
  },
  {
   "cell_type": "code",
   "execution_count": 125,
   "metadata": {
    "ExecuteTime": {
     "end_time": "2018-04-12T10:38:09.008773Z",
     "start_time": "2018-04-12T10:38:09.002382Z"
    }
   },
   "outputs": [
    {
     "data": {
      "text/plain": [
       "1523529489.004021"
      ]
     },
     "execution_count": 125,
     "metadata": {},
     "output_type": "execute_result"
    }
   ],
   "source": []
  }
 ],
 "metadata": {
  "kernelspec": {
   "display_name": "Python 3",
   "language": "python",
   "name": "python3"
  },
  "language_info": {
   "codemirror_mode": {
    "name": "ipython",
    "version": 3
   },
   "file_extension": ".py",
   "mimetype": "text/x-python",
   "name": "python",
   "nbconvert_exporter": "python",
   "pygments_lexer": "ipython3",
   "version": "3.6.5"
  }
 },
 "nbformat": 4,
 "nbformat_minor": 2
}
