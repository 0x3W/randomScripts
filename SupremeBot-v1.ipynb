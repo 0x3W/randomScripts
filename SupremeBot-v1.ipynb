{
 "cells": [
  {
   "cell_type": "code",
   "execution_count": 2,
   "metadata": {
    "ExecuteTime": {
     "end_time": "2018-04-12T08:25:21.405344Z",
     "start_time": "2018-04-12T08:25:21.195430Z"
    }
   },
   "outputs": [],
   "source": [
    "import requests\n",
    "import httplib2\n",
    "from bs4 import BeautifulSoup, SoupStrainer\n",
    "from PIL import Image, ImageChops\n",
    "import time\n",
    "import math, operator\n",
    "import operator\n",
    "from selenium import webdriver\n",
    "import time\n",
    "from selenium.webdriver.common.keys import Keys\n",
    "from selenium.webdriver.chrome.options import Options\n",
    "\n",
    "def compare(matching,des1):\n",
    "    rmsDiffR = dict()\n",
    "    for linkA in matching:\n",
    "        r=requests.get(''.join([\"http://www.supremenewyork.com\",linkA]))\n",
    "        soup=BeautifulSoup(r.content)\n",
    "        link = soup.find(itemprop=\"image\")\n",
    "        link1 = ''.join(list(link[\"src\"])[2:])\n",
    "        im = Image.open(requests.get(''.join([\"http://\",link1]), stream=True).raw)\n",
    "        im.thumbnail(size, Image.ANTIALIAS)\n",
    "        #print(rmsdiff(im,im3))\n",
    "        #rmsDiffR.append([linkA,rmsdiff(im,im3)])\n",
    "        rmsDiffR[linkA] = rmsdiff(des1,im)\n",
    "    sorted_x = sorted(rmsDiffR.items(), key=operator.itemgetter(1))\n",
    "    toplink1 = 'http://www.supremenewyork.com' + sorted_x[1][0]\n",
    "    return toplink1\n",
    "\n",
    "def reduce(function, iterable, initializer=None):\n",
    "    it = iter(iterable)\n",
    "    if initializer is None:\n",
    "        value = next(it)\n",
    "    else:\n",
    "        value = initializer\n",
    "    for element in it:\n",
    "        value = function(value, element)\n",
    "    return value\n",
    "\n",
    "def rmsdiff(im1, im2):\n",
    "    \"Calculate the root-mean-square difference between two images\"\n",
    "    h = ImageChops.difference(im1, im2).histogram()\n",
    "    # calculate rms\n",
    "    return math.sqrt(reduce(operator.add,\n",
    "        map(lambda h, i: h*(i**2), h, range(256))) / (float(im1.size[0]) * im1.size[1]))\n",
    "\n",
    "size = 64, 64\n",
    "des1 = Image.open('/Users/Dovla/Desktop/black.jpg')\n",
    "des1.thumbnail(size, Image.ANTIALIAS)\n",
    "#mostSim1 = 'http://www.supremenewyork.com/shop/accessories/ajd8mo1sn/yybt603d8'\n",
    "#chrome web driver\n",
    "#chrome_options = Options()\n",
    "#chrome_options.add_extension('/Users/Dovla/Desktop/nlmmgnhgdeffjkdckmikfpnddkbbfkkk/7.8.0_0.crx')\n"
   ]
  },
  {
   "cell_type": "code",
   "execution_count": 3,
   "metadata": {
    "ExecuteTime": {
     "end_time": "2018-04-12T08:26:30.220582Z",
     "start_time": "2018-04-12T08:26:27.925614Z"
    }
   },
   "outputs": [
    {
     "name": "stderr",
     "output_type": "stream",
     "text": [
      "/Library/Frameworks/Python.framework/Versions/3.6/lib/python3.6/site-packages/bs4/__init__.py:133: UserWarning: The \"parseOnlyThese\" argument to the BeautifulSoup constructor has been renamed to \"parse_only.\"\n",
      "  'has been renamed to \"%s.\"' % (old_name, new_name))\n",
      "/Library/Frameworks/Python.framework/Versions/3.6/lib/python3.6/site-packages/bs4/__init__.py:181: UserWarning: No parser was explicitly specified, so I'm using the best available HTML parser for this system (\"lxml\"). This usually isn't a problem, but if you run this code on another system, or in a different virtual environment, it may use a different parser and behave differently.\n",
      "\n",
      "The code that caused this warning is on line 193 of the file /Library/Frameworks/Python.framework/Versions/3.6/lib/python3.6/runpy.py. To get rid of this warning, change code that looks like this:\n",
      "\n",
      " BeautifulSoup(YOUR_MARKUP})\n",
      "\n",
      "to this:\n",
      "\n",
      " BeautifulSoup(YOUR_MARKUP, \"lxml\")\n",
      "\n",
      "  markup_type=markup_type))\n"
     ]
    },
    {
     "name": "stdout",
     "output_type": "stream",
     "text": [
      "http://www.supremenewyork.com/shop/accessories/jy1cn3sie/eq35gubw7\n",
      "Done!\n"
     ]
    }
   ],
   "source": [
    "t1 = 0\n",
    "while t1 == 0:\n",
    "    if time.time() > 1522904235:\n",
    "        t1 = 1\n",
    "    # 1522904235:\n",
    "    # 1522940400500:\n",
    "        http = httplib2.Http()\n",
    "        status, response = http.request('http://www.supremenewyork.com/shop/all')\n",
    "        l1 = []\n",
    "        for link in BeautifulSoup(response, 'html.parser', parseOnlyThese=SoupStrainer('a')):\n",
    "            if link.has_attr('href'):\n",
    "                #print(link['href'])\n",
    "                l1.append(link['href'])\n",
    "        matching = [s for s in l1 if \"accessories\" in s]\n",
    "        matching = [s for s in matching if \"all\" not in s]\n",
    "        if len(l1) + len(matching) != 283:\n",
    "            mostSim = compare(matching, des1)\n",
    "            print(mostSim)\n",
    "            #add to cart\n",
    "            #driver = webdriver.Chrome(\"/Users/Dovla/Downloads/chromedriver\",chrome_options=chrome_options)\n",
    "            #driver.get(mostSim)\n",
    "            #state = driver.find_element_by_id(\"s\").send_keys(\"Medium\")\n",
    "            #driver.find_element_by_name(\"commit\").click()\n",
    "            #time.sleep(0.09)\n",
    "            #checkout\n",
    "            #driver.get(\"https://www.supremenewyork.com/checkout\")\n",
    "            #time.sleep(0.09)\n",
    "            print('Done!')\n",
    "        else:\n",
    "            print('Ciao')\n",
    "    else:\n",
    "        print('Not yet')"
   ]
  },
  {
   "cell_type": "code",
   "execution_count": 62,
   "metadata": {
    "ExecuteTime": {
     "end_time": "2018-04-05T18:47:57.911650Z",
     "start_time": "2018-04-05T18:47:57.750813Z"
    }
   },
   "outputs": [
    {
     "name": "stderr",
     "output_type": "stream",
     "text": [
      "/Library/Frameworks/Python.framework/Versions/3.6/lib/python3.6/site-packages/bs4/__init__.py:181: UserWarning: No parser was explicitly specified, so I'm using the best available HTML parser for this system (\"lxml\"). This usually isn't a problem, but if you run this code on another system, or in a different virtual environment, it may use a different parser and behave differently.\n",
      "\n",
      "The code that caused this warning is on line 193 of the file /Library/Frameworks/Python.framework/Versions/3.6/lib/python3.6/runpy.py. To get rid of this warning, change code that looks like this:\n",
      "\n",
      " BeautifulSoup(YOUR_MARKUP})\n",
      "\n",
      "to this:\n",
      "\n",
      " BeautifulSoup(YOUR_MARKUP, \"lxml\")\n",
      "\n",
      "  markup_type=markup_type))\n"
     ]
    },
    {
     "ename": "TypeError",
     "evalue": "'NoneType' object is not iterable",
     "output_type": "error",
     "traceback": [
      "\u001b[0;31m---------------------------------------------------------------------------\u001b[0m",
      "\u001b[0;31mTypeError\u001b[0m                                 Traceback (most recent call last)",
      "\u001b[0;32m<ipython-input-62-f668b3c9a353>\u001b[0m in \u001b[0;36m<module>\u001b[0;34m()\u001b[0m\n\u001b[1;32m      4\u001b[0m \u001b[0;31m#link1 = ''.join(list(link[\"src\"])[2:])\u001b[0m\u001b[0;34m\u001b[0m\u001b[0;34m\u001b[0m\u001b[0m\n\u001b[1;32m      5\u001b[0m \u001b[0mlink\u001b[0m\u001b[0;34m\u001b[0m\u001b[0m\n\u001b[0;32m----> 6\u001b[0;31m \u001b[0mlink1\u001b[0m \u001b[0;34m=\u001b[0m \u001b[0;34m[\u001b[0m\u001b[0ms\u001b[0m \u001b[0;32mfor\u001b[0m \u001b[0ms\u001b[0m \u001b[0;32min\u001b[0m \u001b[0mlink\u001b[0m \u001b[0;32mif\u001b[0m \u001b[0;34m\"Tagless\"\u001b[0m \u001b[0;32min\u001b[0m \u001b[0ms\u001b[0m\u001b[0;34m]\u001b[0m\u001b[0;34m\u001b[0m\u001b[0m\n\u001b[0m\u001b[1;32m      7\u001b[0m \u001b[0;32mif\u001b[0m \u001b[0mlink1\u001b[0m \u001b[0;32mis\u001b[0m \u001b[0;32mnot\u001b[0m \u001b[0;32mNone\u001b[0m\u001b[0;34m:\u001b[0m\u001b[0;34m\u001b[0m\u001b[0m\n\u001b[1;32m      8\u001b[0m     \u001b[0mprint\u001b[0m\u001b[0;34m(\u001b[0m\u001b[0;34m'Hello'\u001b[0m\u001b[0;34m)\u001b[0m\u001b[0;34m\u001b[0m\u001b[0m\n",
      "\u001b[0;31mTypeError\u001b[0m: 'NoneType' object is not iterable"
     ]
    }
   ],
   "source": [
    "r=requests.get('http://www.supremenewyork.com/shop/accessories/m3xqsrk4o/jx7qm1hsc')\n",
    "soup=BeautifulSoup(r.content)\n",
    "link = soup.find(itemprop=\"name\")\n",
    "#link1 = ''.join(list(link[\"src\"])[2:])\n",
    "link\n",
    "link1 = [s for s in link if \"Tagless\" in s]\n",
    "if link1 is not None:\n",
    "    print('Hello')"
   ]
  },
  {
   "cell_type": "code",
   "execution_count": 46,
   "metadata": {
    "ExecuteTime": {
     "end_time": "2018-04-05T07:43:30.099282Z",
     "start_time": "2018-04-05T07:43:30.092430Z"
    }
   },
   "outputs": [
    {
     "name": "stdout",
     "output_type": "stream",
     "text": [
      "Hello\n"
     ]
    }
   ],
   "source": []
  },
  {
   "cell_type": "code",
   "execution_count": null,
   "metadata": {},
   "outputs": [],
   "source": []
  }
 ],
 "metadata": {
  "kernelspec": {
   "display_name": "Python 3",
   "language": "python",
   "name": "python3"
  },
  "language_info": {
   "codemirror_mode": {
    "name": "ipython",
    "version": 3
   },
   "file_extension": ".py",
   "mimetype": "text/x-python",
   "name": "python",
   "nbconvert_exporter": "python",
   "pygments_lexer": "ipython3",
   "version": "3.6.5rc1"
  }
 },
 "nbformat": 4,
 "nbformat_minor": 2
}
