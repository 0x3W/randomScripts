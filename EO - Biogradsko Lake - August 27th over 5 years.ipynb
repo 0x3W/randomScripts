{
 "cells": [
  {
   "cell_type": "code",
   "execution_count": 12,
   "id": "296ea2d1",
   "metadata": {},
   "outputs": [],
   "source": [
    "import imageio\n",
    "from PIL import Image"
   ]
  },
  {
   "cell_type": "code",
   "execution_count": 27,
   "id": "116abd6b",
   "metadata": {},
   "outputs": [],
   "source": [
    "#parcelplots = glob.glob(\"*.jpg\")\n",
    "plots = ['1.jpg', '2.jpg', '3.jpg', '4.jpg', '5.jpg', '6.jpg']"
   ]
  },
  {
   "cell_type": "code",
   "execution_count": null,
   "id": "55afebff",
   "metadata": {},
   "outputs": [],
   "source": [
    "#v1\n",
    "im1 = Image.open('1.jpg')\n",
    "images = []\n",
    "\n",
    "for f in plots:\n",
    "    images.append(Image.open(f))\n",
    "\n",
    "im1.save(\"BiogradskoLakeOverTime.gif\", save_all=True, append_images=images, duration=750, loop=0)"
   ]
  },
  {
   "cell_type": "code",
   "execution_count": 28,
   "id": "4ae03962",
   "metadata": {},
   "outputs": [
    {
     "name": "stderr",
     "output_type": "stream",
     "text": [
      "/var/folders/fg/k4x0v3q53yl4w0ztccq0b0h80000gp/T/ipykernel_54968/953248914.py:3: DeprecationWarning: Starting with ImageIO v3 the behavior of this function will switch to that of iio.v3.imread. To keep the current behavior (and make this warning dissapear) use `import imageio.v2 as imageio` or call `imageio.v2.imread` directly.\n",
      "  image = imageio.imread(str(f))\n"
     ]
    }
   ],
   "source": [
    "v2\n",
    "with imageio.get_writer('plots_gif.gif', mode='I') as writer:\n",
    "    for f in plots:\n",
    "        image = imageio.imread(str(f))\n",
    "        writer.append_data(image)"
   ]
  },
  {
   "cell_type": "code",
   "execution_count": null,
   "id": "f5fd268f",
   "metadata": {},
   "outputs": [],
   "source": []
  },
  {
   "cell_type": "code",
   "execution_count": 29,
   "id": "5806598f",
   "metadata": {},
   "outputs": [],
   "source": []
  },
  {
   "cell_type": "code",
   "execution_count": null,
   "id": "265c996b",
   "metadata": {},
   "outputs": [],
   "source": []
  },
  {
   "cell_type": "code",
   "execution_count": 41,
   "id": "847756b8",
   "metadata": {},
   "outputs": [],
   "source": []
  },
  {
   "cell_type": "code",
   "execution_count": null,
   "id": "6bffdead",
   "metadata": {},
   "outputs": [],
   "source": []
  }
 ],
 "metadata": {
  "kernelspec": {
   "display_name": "Python 3 (ipykernel)",
   "language": "python",
   "name": "python3"
  },
  "language_info": {
   "codemirror_mode": {
    "name": "ipython",
    "version": 3
   },
   "file_extension": ".py",
   "mimetype": "text/x-python",
   "name": "python",
   "nbconvert_exporter": "python",
   "pygments_lexer": "ipython3",
   "version": "3.9.13"
  }
 },
 "nbformat": 4,
 "nbformat_minor": 5
}
