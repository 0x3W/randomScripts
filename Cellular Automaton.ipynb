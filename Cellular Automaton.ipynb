{
 "cells": [
  {
   "cell_type": "code",
   "execution_count": 133,
   "metadata": {
    "ExecuteTime": {
     "end_time": "2019-05-13T13:42:19.118552Z",
     "start_time": "2019-05-13T13:42:18.994518Z"
    }
   },
   "outputs": [],
   "source": [
    "from time import sleep\n",
    "rCount = 25\n",
    "RULES = {30: {\"111\": '0', \"110\": '0', \"101\": '0', \"000\": '0',\n",
    "              \"100\": '1', \"011\": '1', \"010\": '1', \"001\": '1'},\n",
    "\n",
    "         50: {\"111\": '0', \"110\": '0', \"101\": '1', \"100\": '1',\n",
    "               \"011\": '0', \"010\": '0', \"001\": '1', \"000\": '0'},\n",
    "\n",
    "         90: {\"111\": \"0\", \"110\": \"1\", \"101\": \"0\", \"100\": \"1\",\n",
    "              \"011\": \"1\", \"010\": \"0\", \"001\": \"1\", \"000\": \"0\"},\n",
    "\n",
    "         110: {\"111\": '0', \"110\": '1', \"101\": '1', \"100\": '0',\n",
    "               \"011\": '1', \"010\": '1', \"001\": '1', \"000\": '0'},\n",
    "\n",
    "         184: {\"111\": \"1\", \"110\": \"0\", \"101\": \"1\", \"100\": \"1\",\n",
    "               \"011\": \"1\", \"010\": \"0\", \"001\": \"0\", \"000\": \"0\"}}\n",
    "\n",
    "def window(iterable, stride=3):\n",
    "    for index in range(len(iterable) - stride + 1):\n",
    "        #print(iterable[index:index + stride])\n",
    "        yield iterable[index:index + stride]\n",
    "\n",
    "def generate_pattern(state, rule):\n",
    "    for time in range(rCount):\n",
    "        print_row(state)\n",
    "        patterns = window(state)\n",
    "        state = ''.join(rule[pat] for pat in patterns)\n",
    "        state = '0{}0'.format(state)\n",
    "        sleep(.1)\n",
    "\n",
    "def print_row(row):\n",
    "    for cell in row:\n",
    "        if cell == '1':\n",
    "            sys.stdout.write(u'\\u2593')\n",
    "            #sys.stdout.write(u'\\u2588')\n",
    "        else:\n",
    "            sys.stdout.write(' ')\n",
    "    sys.stdout.write('\\n')"
   ]
  },
  {
   "cell_type": "code",
   "execution_count": 137,
   "metadata": {
    "ExecuteTime": {
     "end_time": "2019-05-13T13:42:33.574877Z",
     "start_time": "2019-05-13T13:42:30.947172Z"
    }
   },
   "outputs": [
    {
     "name": "stdout",
     "output_type": "stream",
     "text": [
      "Using rule 30\n",
      "                         ▓                         \n",
      "                        ▓▓▓                        \n",
      "                       ▓▓  ▓                       \n",
      "                      ▓▓ ▓▓▓▓                      \n",
      "                     ▓▓  ▓   ▓                     \n",
      "                    ▓▓ ▓▓▓▓ ▓▓▓                    \n",
      "                   ▓▓  ▓    ▓  ▓                   \n",
      "                  ▓▓ ▓▓▓▓  ▓▓▓▓▓▓                  \n",
      "                 ▓▓  ▓   ▓▓▓     ▓                 \n",
      "                ▓▓ ▓▓▓▓ ▓▓  ▓   ▓▓▓                \n",
      "               ▓▓  ▓    ▓ ▓▓▓▓ ▓▓  ▓               \n",
      "              ▓▓ ▓▓▓▓  ▓▓ ▓    ▓ ▓▓▓▓              \n",
      "             ▓▓  ▓   ▓▓▓  ▓▓  ▓▓ ▓   ▓             \n",
      "            ▓▓ ▓▓▓▓ ▓▓  ▓▓▓ ▓▓▓  ▓▓ ▓▓▓            \n",
      "           ▓▓  ▓    ▓ ▓▓▓   ▓  ▓▓▓  ▓  ▓           \n",
      "          ▓▓ ▓▓▓▓  ▓▓ ▓  ▓ ▓▓▓▓▓  ▓▓▓▓▓▓▓          \n",
      "         ▓▓  ▓   ▓▓▓  ▓▓▓▓ ▓    ▓▓▓      ▓         \n",
      "        ▓▓ ▓▓▓▓ ▓▓  ▓▓▓    ▓▓  ▓▓  ▓    ▓▓▓        \n",
      "       ▓▓  ▓    ▓ ▓▓▓  ▓  ▓▓ ▓▓▓ ▓▓▓▓  ▓▓  ▓       \n",
      "      ▓▓ ▓▓▓▓  ▓▓ ▓  ▓▓▓▓▓▓  ▓   ▓   ▓▓▓ ▓▓▓▓      \n",
      "     ▓▓  ▓   ▓▓▓  ▓▓▓▓     ▓▓▓▓ ▓▓▓ ▓▓   ▓   ▓     \n",
      "    ▓▓ ▓▓▓▓ ▓▓  ▓▓▓   ▓   ▓▓    ▓   ▓ ▓ ▓▓▓ ▓▓▓    \n",
      "   ▓▓  ▓    ▓ ▓▓▓  ▓ ▓▓▓ ▓▓ ▓  ▓▓▓ ▓▓ ▓ ▓   ▓  ▓   \n",
      "  ▓▓ ▓▓▓▓  ▓▓ ▓  ▓▓▓ ▓   ▓  ▓▓▓▓   ▓  ▓ ▓▓ ▓▓▓▓▓▓  \n",
      " ▓▓  ▓   ▓▓▓  ▓▓▓▓   ▓▓ ▓▓▓▓▓   ▓ ▓▓▓▓▓ ▓  ▓     ▓ \n"
     ]
    }
   ],
   "source": [
    "initial_state = '0' * 25 + '1' + '0' * 25\n",
    "rul = random.choice([*RULES])\n",
    "rule = RULES[rul]\n",
    "print(\"Using rule\", rul)\n",
    "generate_pattern(initial_state, rule)"
   ]
  },
  {
   "cell_type": "code",
   "execution_count": null,
   "metadata": {},
   "outputs": [],
   "source": []
  }
 ],
 "metadata": {
  "kernelspec": {
   "display_name": "Python 3",
   "language": "python",
   "name": "python3"
  },
  "language_info": {
   "codemirror_mode": {
    "name": "ipython",
    "version": 3
   },
   "file_extension": ".py",
   "mimetype": "text/x-python",
   "name": "python",
   "nbconvert_exporter": "python",
   "pygments_lexer": "ipython3",
   "version": "3.6.5"
  }
 },
 "nbformat": 4,
 "nbformat_minor": 2
}
