{
 "cells": [
  {
   "cell_type": "code",
   "execution_count": 161,
   "metadata": {
    "ExecuteTime": {
     "end_time": "2019-05-13T13:51:21.803359Z",
     "start_time": "2019-05-13T13:51:19.108141Z"
    }
   },
   "outputs": [
    {
     "name": "stdout",
     "output_type": "stream",
     "text": [
      "Using rule 30\n",
      "                         ▓                         \n",
      "                        ▓▓▓                        \n",
      "                       ▓▓  ▓                       \n",
      "                      ▓▓ ▓▓▓▓                      \n",
      "                     ▓▓  ▓   ▓                     \n",
      "                    ▓▓ ▓▓▓▓ ▓▓▓                    \n",
      "                   ▓▓  ▓    ▓  ▓                   \n",
      "                  ▓▓ ▓▓▓▓  ▓▓▓▓▓▓                  \n",
      "                 ▓▓  ▓   ▓▓▓     ▓                 \n",
      "                ▓▓ ▓▓▓▓ ▓▓  ▓   ▓▓▓                \n",
      "               ▓▓  ▓    ▓ ▓▓▓▓ ▓▓  ▓               \n",
      "              ▓▓ ▓▓▓▓  ▓▓ ▓    ▓ ▓▓▓▓              \n",
      "             ▓▓  ▓   ▓▓▓  ▓▓  ▓▓ ▓   ▓             \n",
      "            ▓▓ ▓▓▓▓ ▓▓  ▓▓▓ ▓▓▓  ▓▓ ▓▓▓            \n",
      "           ▓▓  ▓    ▓ ▓▓▓   ▓  ▓▓▓  ▓  ▓           \n",
      "          ▓▓ ▓▓▓▓  ▓▓ ▓  ▓ ▓▓▓▓▓  ▓▓▓▓▓▓▓          \n",
      "         ▓▓  ▓   ▓▓▓  ▓▓▓▓ ▓    ▓▓▓      ▓         \n",
      "        ▓▓ ▓▓▓▓ ▓▓  ▓▓▓    ▓▓  ▓▓  ▓    ▓▓▓        \n",
      "       ▓▓  ▓    ▓ ▓▓▓  ▓  ▓▓ ▓▓▓ ▓▓▓▓  ▓▓  ▓       \n",
      "      ▓▓ ▓▓▓▓  ▓▓ ▓  ▓▓▓▓▓▓  ▓   ▓   ▓▓▓ ▓▓▓▓      \n",
      "     ▓▓  ▓   ▓▓▓  ▓▓▓▓     ▓▓▓▓ ▓▓▓ ▓▓   ▓   ▓     \n",
      "    ▓▓ ▓▓▓▓ ▓▓  ▓▓▓   ▓   ▓▓    ▓   ▓ ▓ ▓▓▓ ▓▓▓    \n",
      "   ▓▓  ▓    ▓ ▓▓▓  ▓ ▓▓▓ ▓▓ ▓  ▓▓▓ ▓▓ ▓ ▓   ▓  ▓   \n",
      "  ▓▓ ▓▓▓▓  ▓▓ ▓  ▓▓▓ ▓   ▓  ▓▓▓▓   ▓  ▓ ▓▓ ▓▓▓▓▓▓  \n",
      " ▓▓  ▓   ▓▓▓  ▓▓▓▓   ▓▓ ▓▓▓▓▓   ▓ ▓▓▓▓▓ ▓  ▓     ▓ \n"
     ]
    }
   ],
   "source": [
    "from time import sleep\n",
    "rCount = 25\n",
    "rules = {30: {\"111\": '0', \"110\": '0', \"101\": '0', \"000\": '0',\n",
    "              \"100\": '1', \"011\": '1', \"010\": '1', \"001\": '1'}}\n",
    "\n",
    "def genCA(state, rule):\n",
    "    for time in range(rCount):\n",
    "        for cell in state:\n",
    "            if cell == '1':\n",
    "                sys.stdout.write(u'\\u2593')\n",
    "            else:\n",
    "                sys.stdout.write(' ')\n",
    "        sys.stdout.write('\\n')\n",
    "        pattern = []\n",
    "        for index in range(len(state) - 3 + 1):\n",
    "            pattern.append(state[index:index + 3]) \n",
    "        state = ''.join(rule[pat] for pat in pattern)\n",
    "        state = '0{}0'.format(state)\n",
    "        sleep(.1)\n",
    "\n",
    "initial_state = '0' * 25 + '1' + '0' * 25\n",
    "rul = random.choice([*rules])\n",
    "rule = rules[rul]\n",
    "print(\"Using rule\", rul)\n",
    "genCA(initial_state, rule)"
   ]
  },
  {
   "cell_type": "code",
   "execution_count": null,
   "metadata": {},
   "outputs": [],
   "source": []
  }
 ],
 "metadata": {
  "kernelspec": {
   "display_name": "Python 3",
   "language": "python",
   "name": "python3"
  },
  "language_info": {
   "codemirror_mode": {
    "name": "ipython",
    "version": 3
   },
   "file_extension": ".py",
   "mimetype": "text/x-python",
   "name": "python",
   "nbconvert_exporter": "python",
   "pygments_lexer": "ipython3",
   "version": "3.6.5"
  }
 },
 "nbformat": 4,
 "nbformat_minor": 2
}
