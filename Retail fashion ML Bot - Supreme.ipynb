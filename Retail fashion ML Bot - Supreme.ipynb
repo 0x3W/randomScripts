{
 "cells": [
  {
   "cell_type": "markdown",
   "metadata": {},
   "source": [
    "# Retail Fashion ML/AI Bot - Supreme - Python Tutorial\n",
    "\n",
    "Though seems like a different world if You are into fashion, skateboarding, motorcycles, music and generally street culture its likely that You know how important is 11:00am on Thursdays, 11:00 on Tuesdays and Sundays drop reveals. Supreme is #1 brand right now and their online drops sell out in matter of seconds. Here are some statistics: US, Europe and Japan.\n",
    "\n",
    "I've been following and participating in community in various ways and it never ceases to amaze me, especially the people who are into it and amount of energy that flows when coping on Lafayette in Manhattan or wherever You are. And this is my way of giving back. I've used this bot for at least 10 times over the past 2-3 months, and its able to buy in under 2 seonds, so no matter how hyped good is, I am sure You can also get it.\n",
    "\n",
    "The idea is the following:\n",
    "\n",
    "0. Specify what items You want based on category, name, color and size (check drop reveals on www.supremecommunity.com)\n",
    "1. Monitor www.supremenewyork.com for a change in products on 11:00 Thursday based on epoch (usually its on time, but not always, so have another check like number of unique links in 2-3 categories)\n",
    "2. Get all the links in category You look for (BeutifulSoup ftw!)\n",
    "3. Match the name, color and size of item You look for (pythonic way!)\n",
    "4. Get it into cart (Selenium!)\n",
    "5. Checkout (pay!)\n",
    "6. Be cool, be supreme ;)\n",
    "\n",
    "For people not into programming here is a simple windows and linux/mac application that You can download."
   ]
  },
  {
   "cell_type": "code",
   "execution_count": null,
   "metadata": {},
   "outputs": [],
   "source": [
    "#Load all the libraries \n",
    "import requests\n",
    "import httplib2\n",
    "from bs4 import BeautifulSoup, SoupStrainer\n",
    "from PIL import Image, ImageChops\n",
    "import time\n",
    "import math, operator\n",
    "import operator\n",
    "from selenium import webdriver\n",
    "import time\n",
    "from selenium.webdriver.common.keys import Keys\n",
    "from selenium.webdriver.chrome.options import Options\n",
    "import warnings\n",
    "warnings.filterwarnings('ignore')"
   ]
  },
  {
   "cell_type": "markdown",
   "metadata": {},
   "source": [
    "Replicating human online is easiest done with Selenium library. As You can imagine all the tasks one can think of are available (select list, click button, fill form, etc). Bot starts with selecting webdriver which I chose to be Chrome, though You can use any driver: firefox, phantomJS, etc. \n",
    "\n",
    "Please note: checkout process with selenium can be done faster with auto complete extension in browser. But webdriver doesnt load with extensions so I'll leave code for manual import. Also note that it loads blank, so if You want to use it, You should load everything, perform dummy checkout and save the checkout data in extension, and start bot at 11:00 in the same process."
   ]
  },
  {
   "cell_type": "code",
   "execution_count": null,
   "metadata": {},
   "outputs": [],
   "source": [
    "chrome_options = Options()\n",
    "#chrome_options.add_extension('7.8.0_0.crx') #Uncomment if you use \n",
    "driver = webdriver.Chrome(\"chromedriver\",chrome_options=chrome_options)"
   ]
  },
  {
   "cell_type": "markdown",
   "metadata": {},
   "source": [
    "Bot is divided into 4 logical parts:"
   ]
  },
  {
   "cell_type": "code",
   "execution_count": null,
   "metadata": {
    "code_folding": []
   },
   "outputs": [],
   "source": [
    "#1 Get link of Your item\n",
    "\n",
    "def textwise(link,desTag,col):\n",
    "    r=requests.get(link)\n",
    "    soup=BeautifulSoup(r.content)\n",
    "    if col == 1:\n",
    "        link = soup.find(itemprop=\"name\")\n",
    "    else:\n",
    "        link = soup.find(itemprop=\"model\")\n",
    "    if link is not None:\n",
    "        link1 = [s for s in link if desTag in s]\n",
    "        if link1 is not None:\n",
    "            if len(link1) > 0:\n",
    "                return 1\n",
    "            else:\n",
    "                return 0\n",
    "        else:\n",
    "            return 0\n",
    "    else:\n",
    "        return 0"
   ]
  },
  {
   "cell_type": "code",
   "execution_count": null,
   "metadata": {
    "code_folding": []
   },
   "outputs": [],
   "source": [
    "#2 Get it into cart\n",
    "def getIt(l1, matchTag,dTag1,dTag2,size):\n",
    "    matching = [s for s in l1 if matchTag in s]\n",
    "    matching = [s for s in matching if \"all\" not in s]\n",
    "    if len(l1) + len(matching) != 283:\n",
    "        for aLink in matching:\n",
    "            txtExtract = textwise(''.join([\"http://www.supremenewyork.com\",aLink]), dTag1,2)\n",
    "            if txtExtract == 1 and dTag2 != None:\n",
    "                txtExtractCol = textwise(''.join([\"http://www.supremenewyork.com\",aLink]), dTag2,1)\n",
    "                if txtExtractCol == 1:\n",
    "                    mostTxt = ''.join([\"http://www.supremenewyork.com\",aLink])\n",
    "                    quickOut(mostTxt,size=1)\n",
    "                    print(mostTxt)\n",
    "                    break\n",
    "                else:\n",
    "                    print(\"not the color\")\n",
    "            else if txtExtract == 1:\n",
    "                    mostTxt = ''.join([\"http://www.supremenewyork.com\",aLink])\n",
    "                    quickOut(mostTxt,size)\n",
    "                    print(mostTxt)\n",
    "                    break\n",
    "            else:\n",
    "                print(\"not the model\")\n",
    "                        #print('OneMore + ',''.join([\"http://www.supremenewyork.com\",aLink]))\n",
    "        print('Done!')\n",
    "    else:\n",
    "        print('Ciao')"
   ]
  },
  {
   "cell_type": "code",
   "execution_count": null,
   "metadata": {
    "code_folding": []
   },
   "outputs": [],
   "source": [
    "#3 Checkout\n",
    "def quickOut(che,sizes):\n",
    "        driver.get(che)\n",
    "        if sizes == 1:\n",
    "            state = driver.find_element_by_id(\"s\").send_keys(\"Small\")\n",
    "        if sizes == 2:\n",
    "            state = driver.find_element_by_id(\"s\").send_keys(\"Medium\")\n",
    "        if sizes == 3:\n",
    "            state = driver.find_element_by_id(\"s\").send_keys(\"Large\")\n",
    "        driver.find_element_by_name(\"commit\").click()\n",
    "        time.sleep(0.09)"
   ]
  },
  {
   "cell_type": "code",
   "execution_count": null,
   "metadata": {
    "code_folding": [
     0
    ]
   },
   "outputs": [],
   "source": [
    "# running operation\n",
    "t1 = 0\n",
    "dTag1 = ['Tagless','Court','Arc']\n",
    "dTag2 = ['Black', 'Black','Blue']\n",
    "matchTag = ['accessories','sweatshirts','shorts']\n",
    "size = [3,3,0]\n",
    "chasing = 0\n",
    "while t1 == 0:\n",
    "    if time.time() > 1525359600:\n",
    "        t1 = 1\n",
    "        http = httplib2.Http()\n",
    "        status, response = http.request('http://www.supremenewyork.com/shop/all')\n",
    "        l1 = []\n",
    "        for link in BeautifulSoup(response, 'html.parser', parseOnlyThese=SoupStrainer('a')):\n",
    "            if link.has_attr('href'):\n",
    "                l1.append(link['href'])\n",
    "        for k in range(0,len(dTag1)):\n",
    "            getIt(l1,dTag1[k],dTag2[k],matchTag[k],size[k])\n",
    "            #getIt(l1,matchTag[k],dTag1[k],dTag2[k])\n",
    "    else:\n",
    "        next\n",
    "driver.get(\"https://www.supremenewyork.com/checkout\")\n",
    "time.sleep(0.1)\n",
    " \n",
    "#fill form\n",
    "driver.find_element_by_id(\"order_billing_name\").send_keys(\"Mister Supreme\")\n",
    "email = driver.find_element_by_id(\"order_email\").send_keys(\"dev@vladovukovic.com\")\n",
    "tel = driver.find_element_by_id(\"order_tel\").send_keys(\"+13473201982\")\n",
    "address = driver.find_element_by_id(\"bo\").send_keys(\"157 25th street\")\n",
    "zip = driver.find_element_by_id(\"order_billing_zip\").send_keys(\"11232\")\n",
    "city = driver.find_element_by_id(\"order_billing_city\").send_keys(\"Brooklyn\")\n",
    "# apt = driver.find_element_by_id(\"oba3\").send_keys(\"test\")\n",
    "#select box\n",
    "state = driver.find_element_by_id(\"order_billing_state\").send_keys(\"CA\")\n",
    "usa = driver.find_element_by_id(\"order_billing_country\").send_keys(\"USA\")\n",
    "#card\n",
    "cardNumber = driver.find_element_by_id(\"nnaerb\").send_keys(\"1111222233334444\")\n",
    "#select box\n",
    "cardDay = driver.find_element_by_id(\"credit_card_month\").send_keys(\"01\")\n",
    "cardYear = driver.find_element_by_id(\"credit_card_year\").send_keys(\"2019\")\n",
    "cvv = driver.find_element_by_id(\"orcer\").send_keys(\"686\")\n",
    " \n",
    "#terms\n",
    "orderTerms = driver.find_element_by_id(\"order_terms\").send_keys(Keys.SPACE)"
   ]
  },
  {
   "cell_type": "markdown",
   "metadata": {
    "ExecuteTime": {
     "end_time": "2018-06-11T00:55:35.980827Z",
     "start_time": "2018-06-11T00:55:35.954361Z"
    }
   },
   "source": [
    "In order to avoid triggering capture the \"last mile\" is on Your own, to click checkout and mark the checkbox. If its programmed it will trigger quite long process of proving You are not bot, though Your order is reserver in database so doesnt matter how long it takes You to finish it, it will still work."
   ]
  }
 ],
 "metadata": {
  "kernelspec": {
   "display_name": "Python 3",
   "language": "python",
   "name": "python3"
  },
  "language_info": {
   "codemirror_mode": {
    "name": "ipython",
    "version": 3
   },
   "file_extension": ".py",
   "mimetype": "text/x-python",
   "name": "python",
   "nbconvert_exporter": "python",
   "pygments_lexer": "ipython3",
   "version": "3.6.5"
  }
 },
 "nbformat": 4,
 "nbformat_minor": 2
}
