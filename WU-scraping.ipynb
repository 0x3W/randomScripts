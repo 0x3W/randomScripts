{
 "cells": [
  {
   "cell_type": "code",
   "execution_count": 1,
   "metadata": {
    "ExecuteTime": {
     "end_time": "2019-01-06T00:06:12.224768Z",
     "start_time": "2019-01-06T00:06:12.044053Z"
    }
   },
   "outputs": [],
   "source": [
    "import requests\n",
    "import httplib2\n",
    "import json"
   ]
  },
  {
   "cell_type": "code",
   "execution_count": 2,
   "metadata": {
    "ExecuteTime": {
     "end_time": "2019-01-06T00:06:13.170037Z",
     "start_time": "2019-01-06T00:06:12.717702Z"
    }
   },
   "outputs": [
    {
     "name": "stdout",
     "output_type": "stream",
     "text": [
      "{\n",
      "    \"avgoktas\": 6,\n",
      "    \"coolingdegreedays\": 22,\n",
      "    \"coolingdegreedaysnormal\": null,\n",
      "    \"date\": {\n",
      "        \"ampm\": \"AM\",\n",
      "        \"day\": 3,\n",
      "        \"epoch\": 1546444800,\n",
      "        \"hour\": 0,\n",
      "        \"iso8601\": \"2019-01-03T00:00:00+0800\",\n",
      "        \"min\": \"00\",\n",
      "        \"month\": 1,\n",
      "        \"monthname\": \"January\",\n",
      "        \"monthname_short\": \"Jan\",\n",
      "        \"pretty\": \"12:00 AM +08 on January 03, 2019\",\n",
      "        \"rfc822\": \"Thu, 03 Jan 2019 00:00:00 +0800\",\n",
      "        \"sec\": 0,\n",
      "        \"tz_long\": \"Asia/Singapore\",\n",
      "        \"tz_offset_hours\": 8.0,\n",
      "        \"tz_offset_text\": \"+0800\",\n",
      "        \"tz_short\": \"+08\",\n",
      "        \"weekday\": \"Thursday\",\n",
      "        \"weekday_short\": \"Thu\",\n",
      "        \"yday\": 2,\n",
      "        \"year\": 2019\n",
      "    },\n",
      "    \"dewpoint\": 76,\n",
      "    \"fog\": 0,\n",
      "    \"gdegreedays\": 36,\n",
      "    \"hail\": 0,\n",
      "    \"heatingdegreedays\": 0,\n",
      "    \"heatingdegreedaysnormal\": null,\n",
      "    \"humidity\": 72,\n",
      "    \"icon\": \"partlysunny\",\n",
      "    \"max_dewpoint\": 79,\n",
      "    \"max_humidity\": 84,\n",
      "    \"max_pressure\": 29.89,\n",
      "    \"max_temperature\": 91,\n",
      "    \"max_temperature_normal\": null,\n",
      "    \"max_temperature_record\": null,\n",
      "    \"max_temperature_record_year\": null,\n",
      "    \"max_visibility\": 6.2,\n",
      "    \"max_wind_speed\": 16,\n",
      "    \"min_dewpoint\": 75,\n",
      "    \"min_humidity\": 59,\n",
      "    \"min_pressure\": 29.77,\n",
      "    \"min_temperature\": 82,\n",
      "    \"min_temperature_normal\": null,\n",
      "    \"min_temperature_record\": null,\n",
      "    \"min_temperature_record_year\": null,\n",
      "    \"min_visibility\": 5.6,\n",
      "    \"min_wind_speed\": 6,\n",
      "    \"monthtodatecoolingdegreedays\": null,\n",
      "    \"monthtodatecoolingdegreedaysnormal\": null,\n",
      "    \"monthtodateheatingdegreedays\": null,\n",
      "    \"monthtodateheatingdegreedaysnormal\": null,\n",
      "    \"monthtodateprecipitation\": null,\n",
      "    \"monthtodateprecipitationnormal\": null,\n",
      "    \"monthtodatesnowfall\": null,\n",
      "    \"precip\": 0.0,\n",
      "    \"precipnormal\": null,\n",
      "    \"preciprecord\": null,\n",
      "    \"preciprecordyear\": null,\n",
      "    \"precipsource\": \"3Or6HourObs\",\n",
      "    \"pressure\": 29.83,\n",
      "    \"rain\": 0,\n",
      "    \"since1jancoolingdegreedays\": null,\n",
      "    \"since1jancoolingdegreedaysnormal\": null,\n",
      "    \"since1janprecipitation\": null,\n",
      "    \"since1janprecipitationnormal\": null,\n",
      "    \"since1julheatingdegreedays\": null,\n",
      "    \"since1julheatingdegreedaysnormal\": null,\n",
      "    \"since1julsnowfall\": null,\n",
      "    \"since1sepcoolingdegreedays\": null,\n",
      "    \"since1sepcoolingdegreedaysnormal\": null,\n",
      "    \"since1sepheatingdegreedays\": null,\n",
      "    \"since1sepheatingdegreedaysnormal\": null,\n",
      "    \"snow\": 0,\n",
      "    \"snowdepth\": null,\n",
      "    \"snowfall\": null,\n",
      "    \"temperature\": 86,\n",
      "    \"temperature_normal\": null,\n",
      "    \"thunder\": 0,\n",
      "    \"tornado\": 0,\n",
      "    \"visibility\": 6.2,\n",
      "    \"wind_dir\": \"WNW\",\n",
      "    \"wind_dir_degrees\": 291,\n",
      "    \"wind_speed\": 8\n",
      "}\n"
     ]
    }
   ],
   "source": [
    "link = \"https://www.wunderground.com/history/daily/\"\n",
    "loc = \"sg/river-valley\"\n",
    "mid = \"/WSAP/date/\"\n",
    "date = \"2019-01-03\"\n",
    "date1 = date.replace('-','')\n",
    "link1 = link + loc + mid + date\n",
    "try:\n",
    "    r=requests.get(link1).text\n",
    "    fir = r.find('\"url\":')\n",
    "    end = r.find(\"conditions/labels\")\n",
    "    link2 = r[fir+7:end-1]+'/history_' + date1 + '/lang:EN/units:english/bestfct:1/v:2.0/q/WSAP.json?showObs=0&ttl=120'\n",
    "    r2 = requests.get(link2).text\n",
    "    r3 = json.loads(r2)\n",
    "    print(json.dumps(r3['history']['days'][0]['summary'], indent=4, sort_keys=True))\n",
    "except:\n",
    "    print('Location or date not appropriate, please re-run!')"
   ]
  },
  {
   "cell_type": "code",
   "execution_count": null,
   "metadata": {},
   "outputs": [],
   "source": []
  }
 ],
 "metadata": {
  "kernelspec": {
   "display_name": "Python 3",
   "language": "python",
   "name": "python3"
  },
  "language_info": {
   "codemirror_mode": {
    "name": "ipython",
    "version": 3
   },
   "file_extension": ".py",
   "mimetype": "text/x-python",
   "name": "python",
   "nbconvert_exporter": "python",
   "pygments_lexer": "ipython3",
   "version": "3.6.5"
  }
 },
 "nbformat": 4,
 "nbformat_minor": 2
}
