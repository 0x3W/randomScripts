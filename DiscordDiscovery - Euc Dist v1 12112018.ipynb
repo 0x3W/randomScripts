{
 "cells": [
  {
   "cell_type": "markdown",
   "metadata": {},
   "source": [
    "Version: 1\n",
    "\n",
    "Short descriptions: Discord discovery based on Euclidian distance between adjacency matrices.\n",
    "\n",
    "Data used: http://www.sociopatterns.org/datasets/contacts-in-a-workplace/"
   ]
  },
  {
   "cell_type": "code",
   "execution_count": 13,
   "metadata": {
    "ExecuteTime": {
     "end_time": "2018-11-10T23:29:09.618297Z",
     "start_time": "2018-11-10T23:29:09.462878Z"
    }
   },
   "outputs": [],
   "source": [
    "import numpy as np\n",
    "import pandas as pd\n",
    "import networkx as nx\n",
    "import matplotlib.pyplot as plt\n",
    "import warnings\n",
    "warnings.filterwarnings('ignore')\n",
    "%matplotlib inline"
   ]
  },
  {
   "cell_type": "code",
   "execution_count": 3,
   "metadata": {
    "ExecuteTime": {
     "end_time": "2018-11-10T22:20:14.047518Z",
     "start_time": "2018-11-10T22:20:13.866887Z"
    }
   },
   "outputs": [
    {
     "data": {
      "text/html": [
       "<div>\n",
       "<style scoped>\n",
       "    .dataframe tbody tr th:only-of-type {\n",
       "        vertical-align: middle;\n",
       "    }\n",
       "\n",
       "    .dataframe tbody tr th {\n",
       "        vertical-align: top;\n",
       "    }\n",
       "\n",
       "    .dataframe thead th {\n",
       "        text-align: right;\n",
       "    }\n",
       "</style>\n",
       "<table border=\"1\" class=\"dataframe\">\n",
       "  <thead>\n",
       "    <tr style=\"text-align: right;\">\n",
       "      <th></th>\n",
       "      <th>ts</th>\n",
       "      <th>w1code</th>\n",
       "      <th>w2code</th>\n",
       "    </tr>\n",
       "  </thead>\n",
       "  <tbody>\n",
       "    <tr>\n",
       "      <th>0</th>\n",
       "      <td>28820</td>\n",
       "      <td>63</td>\n",
       "      <td>85</td>\n",
       "    </tr>\n",
       "    <tr>\n",
       "      <th>1</th>\n",
       "      <td>28860</td>\n",
       "      <td>51</td>\n",
       "      <td>50</td>\n",
       "    </tr>\n",
       "    <tr>\n",
       "      <th>2</th>\n",
       "      <td>29300</td>\n",
       "      <td>34</td>\n",
       "      <td>82</td>\n",
       "    </tr>\n",
       "    <tr>\n",
       "      <th>3</th>\n",
       "      <td>29780</td>\n",
       "      <td>11</td>\n",
       "      <td>30</td>\n",
       "    </tr>\n",
       "    <tr>\n",
       "      <th>4</th>\n",
       "      <td>30000</td>\n",
       "      <td>28</td>\n",
       "      <td>34</td>\n",
       "    </tr>\n",
       "  </tbody>\n",
       "</table>\n",
       "</div>"
      ],
      "text/plain": [
       "      ts  w1code  w2code\n",
       "0  28820      63      85\n",
       "1  28860      51      50\n",
       "2  29300      34      82\n",
       "3  29780      11      30\n",
       "4  30000      28      34"
      ]
     },
     "execution_count": 3,
     "metadata": {},
     "output_type": "execute_result"
    }
   ],
   "source": [
    "#read data\n",
    "dat = pd.read_table('/Users/Dovla/Downloads/tij_InVS.dat',sep=\" \",header=None)\n",
    "dat.columns = ['ts','w1','w2']\n",
    "#label nodes so its easier to manipulate with for loops\n",
    "dat['w1cat'] = pd.Categorical(dat['w1'])\n",
    "dat['w1code'] = dat.w1cat.cat.codes\n",
    "dat['w2cat'] = pd.Categorical(dat['w2'])\n",
    "dat['w2code'] = dat.w2cat.cat.codes\n",
    "#filter just nodes w new label\n",
    "newDat = dat[['ts','w1code','w2code']]\n",
    "newDat.head()"
   ]
  },
  {
   "cell_type": "code",
   "execution_count": 10,
   "metadata": {
    "ExecuteTime": {
     "end_time": "2018-11-10T23:22:26.979980Z",
     "start_time": "2018-11-10T23:22:26.974424Z"
    }
   },
   "outputs": [],
   "source": [
    "# distance measure of two matricies\n",
    "def distance(m1, m2):\n",
    "    return np.sqrt(np.sum((m1 - m2) ** 2))    "
   ]
  },
  {
   "cell_type": "code",
   "execution_count": 12,
   "metadata": {
    "ExecuteTime": {
     "end_time": "2018-11-10T23:24:43.760889Z",
     "start_time": "2018-11-10T23:24:34.551497Z"
    }
   },
   "outputs": [],
   "source": [
    "#get max number of unique nodes\n",
    "nr = max(len(newDat.w1code.unique()),len(newDat.w2code.unique()))\n",
    "# hold adj matricies\n",
    "adjArr = []\n",
    "#loop through each time-stamp \n",
    "for ts in newDat.ts.unique():\n",
    "    #filter current timestamp\n",
    "    tsTemp = newDat[newDat.ts == ts]\n",
    "    #generate empty adj matrix\n",
    "    sArr = np.zeros((nr,nr))\n",
    "    #fill adj matrix\n",
    "    for i in range(tsTemp.shape[0]):\n",
    "        sArr[tsTemp.w1code.iloc[i],tsTemp.w2code.iloc[i]] = 1\n",
    "    #store it\n",
    "    adjArr.append(sArr)"
   ]
  },
  {
   "cell_type": "code",
   "execution_count": 6,
   "metadata": {
    "ExecuteTime": {
     "end_time": "2018-11-10T23:06:09.563551Z",
     "start_time": "2018-11-10T22:21:19.611708Z"
    }
   },
   "outputs": [],
   "source": [
    "#hold distance measure per ts\n",
    "eucDisGroup = []\n",
    "#convert\n",
    "adjArr1 = np.array(adjArr)\n",
    "#loop through each time stamp\n",
    "for j in range(adjArr1.shape[0]):\n",
    "    #select current adj matrix\n",
    "    curr = adjArr1[j,:,:]\n",
    "    #hold distance measure for each window\n",
    "    eucDisCurr = []\n",
    "    #loop through each time stamp\n",
    "    for i in range(adjArr1.shape[0]):\n",
    "        #select current adj matrix\n",
    "        slid = adjArr1[i,:,:]\n",
    "        #G = nx.from_numpy_matrix(adjArr1[i,:,:])\n",
    "        #calculate distance\n",
    "        dist = distance(curr,slid)\n",
    "        #store distance\n",
    "        eucDisCurr.append(dist)\n",
    "    #store mean of distances for time-stamp\n",
    "    eucDisGroup.append(np.average(eucDisCurr))\n",
    "#convert to DataFrame\n",
    "eucDisDf = pd.DataFrame({\"ts\":range(len(eucDisGroup)),\"val\":np.array(eucDisGroup)})"
   ]
  },
  {
   "cell_type": "code",
   "execution_count": 32,
   "metadata": {
    "ExecuteTime": {
     "end_time": "2018-11-12T12:41:42.746808Z",
     "start_time": "2018-11-12T12:41:42.714372Z"
    }
   },
   "outputs": [
    {
     "name": "stdout",
     "output_type": "stream",
     "text": [
      "        ts       val\n",
      "232    232  3.215639\n",
      "2307  2307  3.213767\n",
      "2480  2480  3.053352\n",
      "4943  4943  3.018805\n",
      "228    228  2.888254\n",
      "        ts       val\n",
      "6616  6616  1.408264\n",
      "6666  6666  1.408264\n",
      "6665  6665  1.408264\n",
      "6664  6664  1.408264\n",
      "6663  6663  1.408264\n"
     ]
    }
   ],
   "source": [
    "#top k=5 discords\n",
    "print(eucDisDf.sort_values(by=['val'],ascending=False).head(5))\n",
    "print(eucDisDf.sort_values(by=['val'],ascending=True).head(5))"
   ]
  },
  {
   "cell_type": "code",
   "execution_count": 30,
   "metadata": {
    "ExecuteTime": {
     "end_time": "2018-11-12T12:39:51.458955Z",
     "start_time": "2018-11-12T12:39:51.162215Z"
    }
   },
   "outputs": [
    {
     "data": {
      "image/png": "[encoded data removed]",
      "text/plain": [
       "<Figure size 432x288 with 1 Axes>"
      ]
     },
     "metadata": {},
     "output_type": "display_data"
    }
   ],
   "source": [
    "#plot most distance graph\n",
    "G = nx.from_numpy_matrix(adjArr1[232,:,:])\n",
    "nx.draw(G, node_size=22)"
   ]
  },
  {
   "cell_type": "code",
   "execution_count": 33,
   "metadata": {
    "ExecuteTime": {
     "end_time": "2018-11-12T12:42:11.561416Z",
     "start_time": "2018-11-12T12:42:11.348857Z"
    }
   },
   "outputs": [
    {
     "data": {
      "image/png": "[encoded data removed]",
      "text/plain": [
       "<Figure size 432x288 with 1 Axes>"
      ]
     },
     "metadata": {},
     "output_type": "display_data"
    }
   ],
   "source": [
    "#plot least distant graph\n",
    "G = nx.from_numpy_matrix(adjArr1[6616,:,:])\n",
    "nx.draw(G, node_size=22)"
   ]
  }
 ],
 "metadata": {
  "kernelspec": {
   "display_name": "Python 3",
   "language": "python",
   "name": "python3"
  },
  "language_info": {
   "codemirror_mode": {
    "name": "ipython",
    "version": 3
   },
   "file_extension": ".py",
   "mimetype": "text/x-python",
   "name": "python",
   "nbconvert_exporter": "python",
   "pygments_lexer": "ipython3",
   "version": "3.6.5"
  }
 },
 "nbformat": 4,
 "nbformat_minor": 2
}
